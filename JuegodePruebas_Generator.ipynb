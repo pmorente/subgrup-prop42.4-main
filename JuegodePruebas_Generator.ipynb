{
  "cells": [
    {
      "cell_type": "markdown",
      "metadata": {
        "id": "GVhtaBKjeBgZ"
      },
      "source": [
        "\n",
        "\n",
        "> **Attention:**  \n",
        "> The files are generated using random values, and as a result, they may contain unexpected errors or inconsistencies. Please be cautious and review the generated data. You may need to correct and improve it, as the randomization process can sometimes produce unpredictable results.\n",
        "\n",
        "# Product CSV Generator Script\n",
        "GRUP: 42.4\n",
        "\n",
        "Nombres de los miembros del equipo:\n",
        "* `ANDUJAR SANCHEZ, ENRIQUE`\n",
        "* `ESGLEAS TAFALLA, JOAN `\n",
        "* `GUILLAMON CHAVEZ, GABRIEL`\n",
        "* `MORENTE ALCOBER, PAU`\n",
        "\n",
        "\n",
        "\n",
        "## Introduction\n",
        "This Colab notebook demonstrates a Python script designed to generate a dataset of products, including attributes such as prices, descriptions, similarities between products, and their arrangement on a shelf. The generated data is saved in a CSV file, adhering to a predefined format.\n",
        "\n",
        "## Features\n",
        "- **User Input**: The script allows user input for customizing the number of products to generate, as well as the number of rows and columns used to organize products on a virtual shelf.\n",
        "- **Product Generation**: Each product has a consistent price (12.0) and a descriptive label, with names generated sequentially (e.g., Product1, Product2).\n",
        "- **Random Similarities**: The script randomly assigns a similarity score between 0.01 and 0.99 for each unique product pair, ensuring valid similarity values \\(0 < similarity < 1\\).\n",
        "- **CSV Output**: The final data is written to a CSV file in three sections: product data, similarity values, and shelf arrangement.\n",
        "\n",
        "## How to Use\n",
        "1. Enter the number of products you wish to generate (within a range of 1-10000).\n",
        "2. Specify the number of rows and columns for product arrangement on a shelf (both within a range of 1-100).\n",
        "3. The generated CSV file will be saved and can be downloaded for further analysis or visualization.\n",
        "\n",
        "## Running the Script\n",
        "Below, you can find and execute the script to see how it works:\n",
        "\n",
        "\n",
        "\n",
        "\n"
      ]
    },
    {
      "cell_type": "code",
      "execution_count": 3,
      "metadata": {
        "colab": {
          "base_uri": "https://localhost:8080/"
        },
        "id": "BdxodIhxaoub",
        "outputId": "3fd82cc9-a1cc-4e58-f68e-1f72220693b1"
      },
      "outputs": [
        {
          "name": "stdout",
          "output_type": "stream",
          "text": [
            "Enter the number of products to generate (1-1000): 100\n",
            "Enter the number of rows for the shelf (1-10): 10\n",
            "Enter the number of columns for the shelf (1-10): 10\n",
            "CSV file 'products.csv' with 100 products generated successfully!\n"
          ]
        }
      ],
      "source": [
        "import csv\n",
        "import random\n",
        "\n",
        "def get_user_input(prompt, min_value, max_value):\n",
        "    while True:\n",
        "        try:\n",
        "            value = int(input(prompt))\n",
        "            if min_value <= value <= max_value:\n",
        "                return value\n",
        "            else:\n",
        "                print(f\"Please enter a value between {min_value} and {max_value}.\")\n",
        "        except ValueError:\n",
        "            print(\"Invalid input. Please enter an integer.\")\n",
        "\n",
        "# Function to generate a list of products with their attributes\n",
        "def generate_products(num_products):\n",
        "    products = []\n",
        "    for i in range(num_products):\n",
        "        product_name = f\"Product{i+1}\"\n",
        "        price = 12.0  # Setting the same price for all products\n",
        "        description = f\"The {product_name}\"\n",
        "        products.append([product_name, price, description])\n",
        "    return products\n",
        "\n",
        "# Function to generate similarity data between products, ensuring 0 < similarity < 1\n",
        "def generate_similarities(products):\n",
        "    similarities = []\n",
        "    num_products = len(products)\n",
        "\n",
        "    for i in range(num_products):\n",
        "        for j in range(i + 1, num_products):\n",
        "            similarity = round(random.uniform(0.01, 0.99), 2)  # Ensuring 0 < similarity < 1\n",
        "            similarities.append([products[i][0], products[j][0], similarity])\n",
        "\n",
        "    return similarities\n",
        "\n",
        "# Function to generate shelf data\n",
        "def generate_shelf_data(products, num_rows, num_columns):\n",
        "    product_names = \";\".join([p[0] for p in products])\n",
        "    return [num_rows, num_columns, product_names]\n",
        "\n",
        "# Main function to create CSV file\n",
        "def create_csv_file(filename, num_products, num_rows, num_columns):\n",
        "    products = generate_products(num_products)\n",
        "    similarities = generate_similarities(products)\n",
        "    shelf_data = generate_shelf_data(products, num_rows, num_columns)\n",
        "\n",
        "    with open(filename, mode='w', newline='') as file:\n",
        "        writer = csv.writer(file)\n",
        "\n",
        "        # Writing products\n",
        "        writer.writerow([\"::Productes::\"])\n",
        "        for product in products:\n",
        "            writer.writerow(product)\n",
        "        writer.writerow([\"::END::\"])\n",
        "\n",
        "        # Writing similarities\n",
        "        writer.writerow([\"::Similituds::\"])\n",
        "        for similarity in similarities:\n",
        "            writer.writerow(similarity)\n",
        "        writer.writerow([\"::END::\"])\n",
        "\n",
        "        # Writing shelf data\n",
        "        writer.writerow([\"::Estanteria::\"])\n",
        "        writer.writerow(shelf_data)\n",
        "        writer.writerow([\"::END::\"])\n",
        "\n",
        "if __name__ == \"__main__\":\n",
        "    num_products = get_user_input(\"Enter the number of products to generate (1-1000): \", 1, 10000)\n",
        "    num_rows = get_user_input(\"Enter the number of rows for the shelf (1-10): \", 1, 100)\n",
        "    num_columns = get_user_input(\"Enter the number of columns for the shelf (1-10): \", 1, 100)\n",
        "\n",
        "    create_csv_file(\"products.csv\", num_products, num_rows, num_columns)\n",
        "    print(f\"CSV file 'products.csv' with {num_products} products generated successfully!\")\n"
      ]
    }
  ],
  "metadata": {
    "colab": {
      "provenance": []
    },
    "kernelspec": {
      "display_name": "Python 3",
      "name": "python3"
    },
    "language_info": {
      "name": "python"
    }
  },
  "nbformat": 4,
  "nbformat_minor": 0
}
